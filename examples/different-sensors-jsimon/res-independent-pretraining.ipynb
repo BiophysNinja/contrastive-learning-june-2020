{
 "cells": [
  {
   "cell_type": "markdown",
   "metadata": {
    "collapsed": true,
    "pycharm": {
     "name": "#%% md\n"
    }
   },
   "source": [
    "# Scalar energy function of two parts of series beeing the same or not\n",
    "- we want two effects here: If the sampling rate is different they should still be the same\n",
    "- also if the noise is within some level we want similarity\n",
    "- also on small ablation/missing data we want similarity\n",
    "\n",
    "- we want dissimilarity on different sections of the signal\n",
    "- we want dissimilarity with different signals\n",
    "- we want dissimilarity when the signal noise is too large"
   ]
  },
  {
   "cell_type": "markdown",
   "source": [
    "Some pointers for implementation:\n",
    "https://github.com/pietz/simclr/blob/master/SimCLR.ipynb\n",
    "https://github.com/Spijkervet/SimCLR"
   ],
   "metadata": {
    "collapsed": false,
    "pycharm": {
     "name": "#%% md\n"
    }
   }
  },
  {
   "cell_type": "code",
   "execution_count": 1,
   "outputs": [],
   "source": [
    "import utils as ut\n",
    "import pickle\n",
    "import copy\n",
    "import torch\n",
    "from torch import nn"
   ],
   "metadata": {
    "collapsed": false,
    "pycharm": {
     "name": "#%%\n"
    }
   }
  },
  {
   "cell_type": "markdown",
   "source": [
    "---\n",
    "# Data Generation\n",
    "\n",
    "The data we generate is generated time series with different characteristics (peaks,\n",
    "square signal, sinus, spikes). We simulate four sensors with different noise and\n",
    "sampling rate, and each senses a different signal but with the same basic characteristics."
   ],
   "metadata": {
    "collapsed": false,
    "pycharm": {
     "name": "#%% md\n"
    }
   }
  },
  {
   "cell_type": "code",
   "execution_count": 2,
   "outputs": [
    {
     "name": "stdout",
     "output_type": "stream",
     "text": [
      "data with only two columns is assumed to have no missing value field, just return the whole index\n",
      "data with only two columns is assumed to have no missing value field, just return the whole index\n",
      "data with only two columns is assumed to have no missing value field, just return the whole index\n",
      "data with only two columns is assumed to have no missing value field, just return the whole index\n"
     ]
    }
   ],
   "source": [
    "ts_length = 360000 # in 100Hz, so let's generate 1h of signals each\n",
    "sensor1 = ut.Sensor(40, 0.0, 0.2)\n",
    "sensor2 = ut.Sensor(80, 0.1, 0.1)\n",
    "sensor3 = ut.Sensor(80, 0.0, 0.3)\n",
    "sensor4 = ut.Sensor(20, 0.0, 0.1)\n",
    "\n",
    "signal1, signal1_noise = sensor1.sense_signal(ts_length)\n",
    "signal2, signal2_noise = sensor2.sense_signal(ts_length)\n",
    "signal3, signal3_noise = sensor3.sense_signal(ts_length)\n",
    "signal4, signal4_noise = sensor4.sense_signal(ts_length)\n"
   ],
   "metadata": {
    "collapsed": false,
    "pycharm": {
     "name": "#%% \n"
    }
   }
  },
  {
   "cell_type": "markdown",
   "source": [
    "In a first step we need to get them to the sampe sampling rate, to always have the same amount of time steps"
   ],
   "metadata": {
    "collapsed": false,
    "pycharm": {
     "name": "#%% md\n"
    }
   }
  },
  {
   "cell_type": "code",
   "execution_count": 5,
   "outputs": [],
   "source": [
    "s1_100hz = ut.AugmentTSSignal(signal1_noise).expand(sensor1.sampling_rate, 100).data\n",
    "s2_100hz = ut.AugmentTSSignal(signal2_noise).expand(sensor2.sampling_rate, 100).data\n",
    "s3_100hz = ut.AugmentTSSignal(signal3_noise).expand(sensor3.sampling_rate, 100).data\n",
    "s4_100hz = ut.AugmentTSSignal(signal4_noise).expand(sensor4.sampling_rate, 100).data\n",
    "\n",
    "assert s1_100hz.shape[0] == s2_100hz.shape[0]\n",
    "assert s2_100hz.shape[0] == s3_100hz.shape[0]\n",
    "assert s3_100hz.shape[0] == s4_100hz.shape[0]"
   ],
   "metadata": {
    "collapsed": false,
    "pycharm": {
     "name": "#%%\n"
    }
   }
  },
  {
   "cell_type": "code",
   "execution_count": 6,
   "outputs": [],
   "source": [
    "# since that data generation needs w bit, let's save it for later\n",
    "with open('data/signal_data.pkl', 'wb') as file:\n",
    "    pickle.dump((s1_100hz, s2_100hz, s3_100hz, s4_100hz), file)"
   ],
   "metadata": {
    "collapsed": false,
    "pycharm": {
     "name": "#%%\n"
    }
   }
  },
  {
   "cell_type": "code",
   "execution_count": null,
   "outputs": [],
   "source": [
    "# in case we manually want to load the data from above, execute this cell:\n",
    "with open('data/signal_data.pkl', 'rb') as file:\n",
    "    s1_100hz, s2_100hz, s3_100hz, s4_100hz = pickle.load(file)"
   ],
   "metadata": {
    "collapsed": false,
    "pycharm": {
     "name": "#%%\n"
    }
   }
  },
  {
   "cell_type": "markdown",
   "source": [
    "# Representation Learning\n",
    "\n",
    "We can now try to learn contrastive representations where the 4 different aspects of\n",
    "the signal are near to each other independent of the noise and sampling rate. In the easiest way\n",
    "we just use a 1D convolutional encoder, and apply the loss.\n",
    "\n",
    "A question is how the get batches and data. What we want is to take random segments of the time series and augment it.\n",
    "Additionally we take other random segments of the same time series and claim this is different. But since we have only\n",
    "for modes in the time series, this is actually not that clear that you pick in fact a chunk with a different mode."
   ],
   "metadata": {
    "collapsed": false,
    "pycharm": {
     "name": "#%% md\n"
    }
   }
  },
  {
   "cell_type": "code",
   "execution_count": null,
   "outputs": [],
   "source": [
    "# we have 100Hz data\n",
    "# it depends on the target domain what good windows are.\n",
    "# In our case we can say that most signals need 4 seconds to do a full 2Pi cycle\n",
    "# so maybe encoding approx a 1Pi cycle is a good idea, that is 2s, aka 200 time steps\n",
    "\n",
    "cos = nn.CosineSimilarity(dim=1, eps=1e-6)\n",
    "\n",
    "def base_dict(N):\n",
    "    all_js = {j: 0.0 for j in range(2*N)}\n",
    "    all_sims = {i: all_js.deepcopy()  for i in range(2*N)}\n",
    "    return all_sims\n",
    "\n",
    "def loss(i, j, all_similarities, temperature_param):\n",
    "    ze = all_similarities\n",
    "    T = temperature_param\n",
    "    vplus = (torch.exp(ze[i][j]/T))\n",
    "    vminus = 0 #TODO\n",
    "    l = -torch.log(vplus / vminus)\n",
    "    return l\n",
    "\n",
    "def train_mini(mini_batch, temperature_param, augmentations, network, projection):\n",
    "    all_pairs = []\n",
    "    N = len(mini_batch)\n",
    "    for x in mini_batch:\n",
    "        tau1 = augmentations.random_choice()\n",
    "        tau2 = augmentations.random_choice()\n",
    "        x_1 = tau1(x)\n",
    "        x_2 = tau2(x)\n",
    "        o_1 = network(x_1)\n",
    "        o_2 = network(x_2)\n",
    "        p_1 = projection(o_1)\n",
    "        p_2 = projection(o_2)\n",
    "        all_pairs.append(p_1)\n",
    "        all_pairs.append(p_2)\n",
    "    all_similarities = base_dict(N)\n",
    "    for i in range(2*N):\n",
    "        for j in range(2*N):\n",
    "            p_1 = all_pairs[i]\n",
    "            p_2 = all_pairs[j]\n",
    "            all_similarities[i][j] = cos(p_1, p_2)\n",
    "    l = ((1/2)*N)*\n",
    "# pseudo code:\n",
    "# for epochs:\n",
    "#     sample N random samples\n",
    "#     for each n in N:\n",
    "#         get two random augmentations\n",
    "#         augment n into n_1 and n2\n",
    "#         run them trough network to get output_1, output_2 (with extra layer)\n",
    "#     we now have 2N outputs\n",
    "#     compute similarity for all examples\n",
    "#     compute loss for each positive pair\n",
    "#     avarage all losses\n",
    "#     backprob\n",
    "\n",
    "\n",
    "\n",
    "\n",
    "\n"
   ],
   "metadata": {
    "collapsed": false,
    "pycharm": {
     "name": "#%%\n"
    }
   }
  }
 ],
 "metadata": {
  "kernelspec": {
   "display_name": "Python 3",
   "language": "python",
   "name": "python3"
  },
  "language_info": {
   "codemirror_mode": {
    "name": "ipython",
    "version": 2
   },
   "file_extension": ".py",
   "mimetype": "text/x-python",
   "name": "python",
   "nbconvert_exporter": "python",
   "pygments_lexer": "ipython2",
   "version": "2.7.6"
  }
 },
 "nbformat": 4,
 "nbformat_minor": 0
}